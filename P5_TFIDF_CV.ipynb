{
 "cells": [
  {
   "cell_type": "code",
   "execution_count": 24,
   "metadata": {},
   "outputs": [],
   "source": [
    "# Import Python libraries\n",
    "import numpy as np\n",
    "import pandas as pd\n",
    "\n",
    "import matplotlib.pyplot as plt\n",
    "import seaborn as sns\n",
    "from ast import literal_eval"
   ]
  },
  {
   "cell_type": "code",
   "execution_count": 25,
   "metadata": {},
   "outputs": [],
   "source": [
    "data = pd.read_csv('StackOverflow_cleaned.csv',sep=\";\", index_col=0,converters={\"Title\": literal_eval,\n",
    "                                                                                 \"Body\": literal_eval,\n",
    "                                                                                  \"Tags\": literal_eval})"
   ]
  },
  {
   "cell_type": "code",
   "execution_count": 26,
   "metadata": {},
   "outputs": [],
   "source": [
    "data=data[0:100]"
   ]
  },
  {
   "cell_type": "code",
   "execution_count": 27,
   "metadata": {},
   "outputs": [],
   "source": [
    "from sklearn.feature_extraction.text import TfidfVectorizer\n",
    "X = data[\"Body\"]\n",
    "y = data[\"Tags\"]\n",
    "\n",
    "vectorizer = TfidfVectorizer(analyzer=\"word\",\n",
    "                             max_df=.6,\n",
    "                             min_df=0.005,\n",
    "                             tokenizer=None,\n",
    "                             preprocessor=' '.join,\n",
    "                             stop_words=None,\n",
    "                             lowercase=False)\n",
    "\n",
    "\n",
    "vectorizer.fit(X)\n",
    "X_tfidf = vectorizer.transform(X)\n"
   ]
  },
  {
   "cell_type": "code",
   "execution_count": 28,
   "metadata": {},
   "outputs": [
    {
     "data": {
      "text/plain": [
       "(100, 791)"
      ]
     },
     "execution_count": 28,
     "metadata": {},
     "output_type": "execute_result"
    }
   ],
   "source": [
    "X_tfidf.shape"
   ]
  },
  {
   "cell_type": "code",
   "execution_count": 29,
   "metadata": {},
   "outputs": [
    {
     "data": {
      "text/plain": [
       "<100x791 sparse matrix of type '<class 'numpy.float64'>'\n",
       "\twith 1651 stored elements in Compressed Sparse Row format>"
      ]
     },
     "execution_count": 29,
     "metadata": {},
     "output_type": "execute_result"
    }
   ],
   "source": [
    "X_tfidf"
   ]
  },
  {
   "cell_type": "markdown",
   "metadata": {},
   "source": [
    "RandomForest ONeVsRest"
   ]
  },
  {
   "cell_type": "code",
   "execution_count": 30,
   "metadata": {},
   "outputs": [],
   "source": [
    "from sklearn.pipeline import Pipeline\n",
    "from sklearn.multiclass import OneVsRestClassifier\n",
    "from sklearn.multioutput import ClassifierChain\n",
    "from sklearn.linear_model import LogisticRegression\n",
    "from sklearn.ensemble import RandomForestClassifier\n",
    "import sklearn.metrics as metrics\n",
    "from sklearn.preprocessing import MultiLabelBinarizer\n",
    "from sklearn.model_selection import GridSearchCV, RandomizedSearchCV\n",
    "from sklearn.model_selection import train_test_split\n",
    "\n",
    "\n",
    "\n",
    "# transform output : \n",
    "multilabel_binarizer = MultiLabelBinarizer()\n",
    "multilabel_binarizer.fit(y)\n",
    "y_bin = multilabel_binarizer.transform(y)\n",
    "\n",
    "X_train, X_test, y_train, y_test = train_test_split(X_tfidf, y_bin, test_size=0.3, random_state=8)\n",
    "\n"
   ]
  },
  {
   "cell_type": "code",
   "execution_count": 31,
   "metadata": {},
   "outputs": [
    {
     "name": "stdout",
     "output_type": "stream",
     "text": [
      "Requirement already satisfied: nested-cv in c:\\users\\aeorn\\anaconda3\\lib\\site-packages (0.916)\n",
      "Requirement already satisfied: numpy in c:\\users\\aeorn\\anaconda3\\lib\\site-packages (from nested-cv) (1.22.3)\n",
      "Requirement already satisfied: pandas in c:\\users\\aeorn\\anaconda3\\lib\\site-packages (from nested-cv) (1.3.5)\n",
      "Requirement already satisfied: scikit-learn in c:\\users\\aeorn\\anaconda3\\lib\\site-packages (from nested-cv) (1.0.2)\n",
      "Requirement already satisfied: matplotlib in c:\\users\\aeorn\\anaconda3\\lib\\site-packages (from nested-cv) (3.5.0)\n",
      "Requirement already satisfied: kiwisolver>=1.0.1 in c:\\users\\aeorn\\anaconda3\\lib\\site-packages (from matplotlib->nested-cv) (1.3.1)\n",
      "Requirement already satisfied: python-dateutil>=2.7 in c:\\users\\aeorn\\anaconda3\\lib\\site-packages (from matplotlib->nested-cv) (2.8.2)\n",
      "Requirement already satisfied: fonttools>=4.22.0 in c:\\users\\aeorn\\anaconda3\\lib\\site-packages (from matplotlib->nested-cv) (4.25.0)\n",
      "Requirement already satisfied: cycler>=0.10 in c:\\users\\aeorn\\anaconda3\\lib\\site-packages (from matplotlib->nested-cv) (0.11.0)\n",
      "Requirement already satisfied: pillow>=6.2.0 in c:\\users\\aeorn\\anaconda3\\lib\\site-packages (from matplotlib->nested-cv) (8.4.0)\n",
      "Requirement already satisfied: pyparsing>=2.2.1 in c:\\users\\aeorn\\anaconda3\\lib\\site-packages (from matplotlib->nested-cv) (3.0.4)\n",
      "Requirement already satisfied: packaging>=20.0 in c:\\users\\aeorn\\anaconda3\\lib\\site-packages (from matplotlib->nested-cv) (21.3)\n",
      "Requirement already satisfied: six>=1.5 in c:\\users\\aeorn\\anaconda3\\lib\\site-packages (from python-dateutil>=2.7->matplotlib->nested-cv) (1.16.0)\n",
      "Requirement already satisfied: pytz>=2017.3 in c:\\users\\aeorn\\anaconda3\\lib\\site-packages (from pandas->nested-cv) (2021.3)\n",
      "Requirement already satisfied: joblib>=0.11 in c:\\users\\aeorn\\anaconda3\\lib\\site-packages (from scikit-learn->nested-cv) (1.1.0)\n",
      "Requirement already satisfied: threadpoolctl>=2.0.0 in c:\\users\\aeorn\\anaconda3\\lib\\site-packages (from scikit-learn->nested-cv) (2.2.0)\n",
      "Requirement already satisfied: scipy>=1.1.0 in c:\\users\\aeorn\\anaconda3\\lib\\site-packages (from scikit-learn->nested-cv) (1.6.2)\n"
     ]
    }
   ],
   "source": [
    "!pip install nested-cv"
   ]
  },
  {
   "cell_type": "code",
   "execution_count": 34,
   "id": "domestic-check",
   "metadata": {
    "execution": {
     "iopub.execute_input": "2021-07-13T05:53:29.410116Z",
     "iopub.status.busy": "2021-07-13T05:53:29.409435Z",
     "iopub.status.idle": "2021-07-13T05:57:39.420988Z",
     "shell.execute_reply": "2021-07-13T05:57:39.421525Z",
     "shell.execute_reply.started": "2021-07-12T13:10:56.3161Z"
    },
    "papermill": {
     "duration": 250.136813,
     "end_time": "2021-07-13T05:57:39.421711",
     "exception": false,
     "start_time": "2021-07-13T05:53:29.284898",
     "status": "completed"
    },
    "tags": []
   },
   "outputs": [
    {
     "name": "stderr",
     "output_type": "stream",
     "text": [
      "C:\\Users\\Aeorn\\anaconda3\\lib\\site-packages\\sklearn\\multiclass.py:79: UserWarning: Label not 16 is present in all training examples.\n",
      "  warnings.warn(\n",
      "C:\\Users\\Aeorn\\anaconda3\\lib\\site-packages\\sklearn\\multiclass.py:79: UserWarning: Label not 25 is present in all training examples.\n",
      "  warnings.warn(\n",
      "C:\\Users\\Aeorn\\anaconda3\\lib\\site-packages\\sklearn\\multiclass.py:79: UserWarning: Label not 33 is present in all training examples.\n",
      "  warnings.warn(\n",
      "C:\\Users\\Aeorn\\anaconda3\\lib\\site-packages\\sklearn\\multiclass.py:79: UserWarning: Label not 40 is present in all training examples.\n",
      "  warnings.warn(\n",
      "C:\\Users\\Aeorn\\anaconda3\\lib\\site-packages\\sklearn\\multiclass.py:79: UserWarning: Label not 44 is present in all training examples.\n",
      "  warnings.warn(\n",
      "C:\\Users\\Aeorn\\anaconda3\\lib\\site-packages\\sklearn\\metrics\\_classification.py:1580: UndefinedMetricWarning: F-score is ill-defined and being set to 0.0 in labels with no true nor predicted samples. Use `zero_division` parameter to control this behavior.\n",
      "  _warn_prf(average, \"true nor predicted\", \"F-score is\", len(true_sum))\n",
      "C:\\Users\\Aeorn\\anaconda3\\lib\\site-packages\\sklearn\\multiclass.py:79: UserWarning: Label not 17 is present in all training examples.\n",
      "  warnings.warn(\n",
      "C:\\Users\\Aeorn\\anaconda3\\lib\\site-packages\\sklearn\\multiclass.py:79: UserWarning: Label not 19 is present in all training examples.\n",
      "  warnings.warn(\n",
      "C:\\Users\\Aeorn\\anaconda3\\lib\\site-packages\\sklearn\\multiclass.py:79: UserWarning: Label not 33 is present in all training examples.\n",
      "  warnings.warn(\n",
      "C:\\Users\\Aeorn\\anaconda3\\lib\\site-packages\\sklearn\\multiclass.py:79: UserWarning: Label not 40 is present in all training examples.\n",
      "  warnings.warn(\n",
      "C:\\Users\\Aeorn\\anaconda3\\lib\\site-packages\\sklearn\\multiclass.py:79: UserWarning: Label not 44 is present in all training examples.\n",
      "  warnings.warn(\n",
      "C:\\Users\\Aeorn\\anaconda3\\lib\\site-packages\\sklearn\\metrics\\_classification.py:1580: UndefinedMetricWarning: F-score is ill-defined and being set to 0.0 in labels with no true nor predicted samples. Use `zero_division` parameter to control this behavior.\n",
      "  _warn_prf(average, \"true nor predicted\", \"F-score is\", len(true_sum))\n",
      "C:\\Users\\Aeorn\\anaconda3\\lib\\site-packages\\sklearn\\multiclass.py:79: UserWarning: Label not 4 is present in all training examples.\n",
      "  warnings.warn(\n",
      "C:\\Users\\Aeorn\\anaconda3\\lib\\site-packages\\sklearn\\multiclass.py:79: UserWarning: Label not 12 is present in all training examples.\n",
      "  warnings.warn(\n",
      "C:\\Users\\Aeorn\\anaconda3\\lib\\site-packages\\sklearn\\multiclass.py:79: UserWarning: Label not 14 is present in all training examples.\n",
      "  warnings.warn(\n",
      "C:\\Users\\Aeorn\\anaconda3\\lib\\site-packages\\sklearn\\multiclass.py:79: UserWarning: Label not 33 is present in all training examples.\n",
      "  warnings.warn(\n",
      "C:\\Users\\Aeorn\\anaconda3\\lib\\site-packages\\sklearn\\multiclass.py:79: UserWarning: Label not 34 is present in all training examples.\n",
      "  warnings.warn(\n",
      "C:\\Users\\Aeorn\\anaconda3\\lib\\site-packages\\sklearn\\multiclass.py:79: UserWarning: Label not 35 is present in all training examples.\n",
      "  warnings.warn(\n",
      "C:\\Users\\Aeorn\\anaconda3\\lib\\site-packages\\sklearn\\multiclass.py:79: UserWarning: Label not 39 is present in all training examples.\n",
      "  warnings.warn(\n",
      "C:\\Users\\Aeorn\\anaconda3\\lib\\site-packages\\sklearn\\multiclass.py:79: UserWarning: Label not 40 is present in all training examples.\n",
      "  warnings.warn(\n",
      "C:\\Users\\Aeorn\\anaconda3\\lib\\site-packages\\sklearn\\multiclass.py:79: UserWarning: Label not 44 is present in all training examples.\n",
      "  warnings.warn(\n",
      "C:\\Users\\Aeorn\\anaconda3\\lib\\site-packages\\sklearn\\metrics\\_classification.py:1580: UndefinedMetricWarning: F-score is ill-defined and being set to 0.0 in labels with no true nor predicted samples. Use `zero_division` parameter to control this behavior.\n",
      "  _warn_prf(average, \"true nor predicted\", \"F-score is\", len(true_sum))\n",
      "C:\\Users\\Aeorn\\anaconda3\\lib\\site-packages\\sklearn\\multiclass.py:79: UserWarning: Label not 1 is present in all training examples.\n",
      "  warnings.warn(\n",
      "C:\\Users\\Aeorn\\anaconda3\\lib\\site-packages\\sklearn\\multiclass.py:79: UserWarning: Label not 27 is present in all training examples.\n",
      "  warnings.warn(\n",
      "C:\\Users\\Aeorn\\anaconda3\\lib\\site-packages\\sklearn\\multiclass.py:79: UserWarning: Label not 33 is present in all training examples.\n",
      "  warnings.warn(\n",
      "C:\\Users\\Aeorn\\anaconda3\\lib\\site-packages\\sklearn\\multiclass.py:79: UserWarning: Label not 40 is present in all training examples.\n",
      "  warnings.warn(\n",
      "C:\\Users\\Aeorn\\anaconda3\\lib\\site-packages\\sklearn\\multiclass.py:79: UserWarning: Label not 43 is present in all training examples.\n",
      "  warnings.warn(\n",
      "C:\\Users\\Aeorn\\anaconda3\\lib\\site-packages\\sklearn\\multiclass.py:79: UserWarning: Label not 44 is present in all training examples.\n",
      "  warnings.warn(\n",
      "C:\\Users\\Aeorn\\anaconda3\\lib\\site-packages\\sklearn\\metrics\\_classification.py:1580: UndefinedMetricWarning: F-score is ill-defined and being set to 0.0 in labels with no true nor predicted samples. Use `zero_division` parameter to control this behavior.\n",
      "  _warn_prf(average, \"true nor predicted\", \"F-score is\", len(true_sum))\n",
      "C:\\Users\\Aeorn\\anaconda3\\lib\\site-packages\\sklearn\\multiclass.py:79: UserWarning: Label not 2 is present in all training examples.\n",
      "  warnings.warn(\n",
      "C:\\Users\\Aeorn\\anaconda3\\lib\\site-packages\\sklearn\\multiclass.py:79: UserWarning: Label not 11 is present in all training examples.\n",
      "  warnings.warn(\n",
      "C:\\Users\\Aeorn\\anaconda3\\lib\\site-packages\\sklearn\\multiclass.py:79: UserWarning: Label not 15 is present in all training examples.\n",
      "  warnings.warn(\n",
      "C:\\Users\\Aeorn\\anaconda3\\lib\\site-packages\\sklearn\\multiclass.py:79: UserWarning: Label not 18 is present in all training examples.\n",
      "  warnings.warn(\n",
      "C:\\Users\\Aeorn\\anaconda3\\lib\\site-packages\\sklearn\\multiclass.py:79: UserWarning: Label not 33 is present in all training examples.\n",
      "  warnings.warn(\n",
      "C:\\Users\\Aeorn\\anaconda3\\lib\\site-packages\\sklearn\\multiclass.py:79: UserWarning: Label not 40 is present in all training examples.\n",
      "  warnings.warn(\n",
      "C:\\Users\\Aeorn\\anaconda3\\lib\\site-packages\\sklearn\\multiclass.py:79: UserWarning: Label not 41 is present in all training examples.\n",
      "  warnings.warn(\n",
      "C:\\Users\\Aeorn\\anaconda3\\lib\\site-packages\\sklearn\\multiclass.py:79: UserWarning: Label not 44 is present in all training examples.\n",
      "  warnings.warn(\n",
      "C:\\Users\\Aeorn\\anaconda3\\lib\\site-packages\\sklearn\\metrics\\_classification.py:1580: UndefinedMetricWarning: F-score is ill-defined and being set to 0.0 in labels with no true nor predicted samples. Use `zero_division` parameter to control this behavior.\n",
      "  _warn_prf(average, \"true nor predicted\", \"F-score is\", len(true_sum))\n"
     ]
    }
   ],
   "source": [
    "from nested_cv import NestedCV\n",
    "from sklearn.metrics import f1_score\n",
    "# Initialize RandomForest with OneVsRest\n",
    "param_rfc = {\"estimator__max_depth\": [5, 25, 50],\n",
    "             \"estimator__min_samples_leaf\": [1, 5, 10],\n",
    "             \"estimator__class_weight\": [\"balanced\"]}\n",
    "\n",
    "\n",
    "multi_rfc_cv = NestedCV(model=OneVsRestClassifier(RandomForestClassifier()) , params_grid=param_rfc,\n",
    "               outer_kfolds=5, inner_kfolds=5, n_jobs = -1,\n",
    "               cv_options={'metric':f1_score,\n",
    "                            'metric_score_indicator_lower' : False,\n",
    "                            #'randomized_search_iter':30, \n",
    "                            'multiclass_average' : \"weighted\",\n",
    "                           #'rfe_n_features':2\n",
    "                           })\n",
    "'''\n",
    "multi_rfc_cv = GridSearchCV(OneVsRestClassifier(RandomForestClassifier()),\n",
    "                            param_grid=param_rfc,\n",
    "                            n_jobs=-1,\n",
    "                            cv=2,\n",
    "                            scoring=\"f1_weighted\",\n",
    "                            return_train_score = True,\n",
    "                            refit=True,\n",
    "                            verbose=3)'''\n",
    "# Fit on Sample data\n",
    "multi_rfc_cv.fit(X_train, y_train)"
   ]
  },
  {
   "cell_type": "code",
   "execution_count": 36,
   "id": "objective-pharmacy",
   "metadata": {
    "execution": {
     "iopub.execute_input": "2021-07-13T05:57:39.664274Z",
     "iopub.status.busy": "2021-07-13T05:57:39.663526Z",
     "iopub.status.idle": "2021-07-13T05:57:39.667674Z",
     "shell.execute_reply": "2021-07-13T05:57:39.666987Z",
     "shell.execute_reply.started": "2021-07-12T13:14:16.860557Z"
    },
    "papermill": {
     "duration": 0.130171,
     "end_time": "2021-07-13T05:57:39.667822",
     "exception": false,
     "start_time": "2021-07-13T05:57:39.537651",
     "status": "completed"
    },
    "tags": []
   },
   "outputs": [
    {
     "ename": "AttributeError",
     "evalue": "'NestedCV' object has no attribute 'best_params_'",
     "output_type": "error",
     "traceback": [
      "\u001b[1;31m---------------------------------------------------------------------------\u001b[0m",
      "\u001b[1;31mAttributeError\u001b[0m                            Traceback (most recent call last)",
      "\u001b[1;32m~\\AppData\\Local\\Temp/ipykernel_6308/3860558571.py\u001b[0m in \u001b[0;36m<module>\u001b[1;34m\u001b[0m\n\u001b[0;32m      1\u001b[0m \u001b[1;31m#rfc_cv_results = pd.DataFrame.from_dict(multi_rfc_cv.cv_results_)\u001b[0m\u001b[1;33m\u001b[0m\u001b[1;33m\u001b[0m\u001b[0m\n\u001b[1;32m----> 2\u001b[1;33m \u001b[0mrfc_best_params\u001b[0m \u001b[1;33m=\u001b[0m \u001b[0mmulti_rfc_cv\u001b[0m\u001b[1;33m.\u001b[0m\u001b[0mbest_params_\u001b[0m\u001b[1;33m\u001b[0m\u001b[1;33m\u001b[0m\u001b[0m\n\u001b[0m\u001b[0;32m      3\u001b[0m \u001b[0mprint\u001b[0m\u001b[1;33m(\u001b[0m\u001b[0mrfc_best_params\u001b[0m\u001b[1;33m)\u001b[0m\u001b[1;33m\u001b[0m\u001b[1;33m\u001b[0m\u001b[0m\n",
      "\u001b[1;31mAttributeError\u001b[0m: 'NestedCV' object has no attribute 'best_params_'"
     ]
    }
   ],
   "source": [
    "#rfc_cv_results = pd.DataFrame.from_dict(multi_rfc_cv.cv_results_)\n",
    "#rfc_best_params = multi_rfc_cv.best_params_\n",
    "#print(rfc_best_params)"
   ]
  },
  {
   "cell_type": "code",
   "execution_count": null,
   "id": "greatest-conducting",
   "metadata": {
    "execution": {
     "iopub.execute_input": "2021-07-13T05:57:39.911785Z",
     "iopub.status.busy": "2021-07-13T05:57:39.910860Z",
     "iopub.status.idle": "2021-07-13T05:57:39.914003Z",
     "shell.execute_reply": "2021-07-13T05:57:39.914475Z",
     "shell.execute_reply.started": "2021-07-12T13:14:16.869174Z"
    },
    "papermill": {
     "duration": 0.127371,
     "end_time": "2021-07-13T05:57:39.914718",
     "exception": false,
     "start_time": "2021-07-13T05:57:39.787347",
     "status": "completed"
    },
    "tags": []
   },
   "outputs": [],
   "source": [
    "#rfc_best_params_ok = {}\n",
    "#for k, v in rfc_best_params.items():\n",
    " #   rfc_best_params_ok[k.replace(\"estimator__\",\"\")] = v"
   ]
  },
  {
   "cell_type": "code",
   "execution_count": 37,
   "id": "concerned-earth",
   "metadata": {
    "execution": {
     "iopub.execute_input": "2021-07-13T05:57:40.157477Z",
     "iopub.status.busy": "2021-07-13T05:57:40.156769Z",
     "iopub.status.idle": "2021-07-13T06:13:38.711950Z",
     "shell.execute_reply": "2021-07-13T06:13:38.712485Z",
     "shell.execute_reply.started": "2021-07-12T13:14:16.880333Z"
    },
    "papermill": {
     "duration": 958.681265,
     "end_time": "2021-07-13T06:13:38.712672",
     "exception": false,
     "start_time": "2021-07-13T05:57:40.031407",
     "status": "completed"
    },
    "tags": []
   },
   "outputs": [
    {
     "ename": "AttributeError",
     "evalue": "'NestedCV' object has no attribute 'predict'",
     "output_type": "error",
     "traceback": [
      "\u001b[1;31m---------------------------------------------------------------------------\u001b[0m",
      "\u001b[1;31mAttributeError\u001b[0m                            Traceback (most recent call last)",
      "\u001b[1;32m~\\AppData\\Local\\Temp/ipykernel_6308/3558317497.py\u001b[0m in \u001b[0;36m<module>\u001b[1;34m\u001b[0m\n\u001b[0;32m      4\u001b[0m \u001b[1;33m\u001b[0m\u001b[0m\n\u001b[0;32m      5\u001b[0m \u001b[1;31m# Predict\u001b[0m\u001b[1;33m\u001b[0m\u001b[1;33m\u001b[0m\u001b[0m\n\u001b[1;32m----> 6\u001b[1;33m \u001b[0my_test_predicted_labels_tfidf_rfc\u001b[0m \u001b[1;33m=\u001b[0m \u001b[0mrfc_final_model\u001b[0m\u001b[1;33m.\u001b[0m\u001b[0mpredict\u001b[0m\u001b[1;33m(\u001b[0m\u001b[0mX_test\u001b[0m\u001b[1;33m)\u001b[0m\u001b[1;33m\u001b[0m\u001b[1;33m\u001b[0m\u001b[0m\n\u001b[0m\u001b[0;32m      7\u001b[0m \u001b[1;33m\u001b[0m\u001b[0m\n\u001b[0;32m      8\u001b[0m \u001b[1;31m# Inverse transform\u001b[0m\u001b[1;33m\u001b[0m\u001b[1;33m\u001b[0m\u001b[0m\n",
      "\u001b[1;31mAttributeError\u001b[0m: 'NestedCV' object has no attribute 'predict'"
     ]
    }
   ],
   "source": [
    "# Refit RandomForestClassifier best_params with full dataset\n",
    "rfc_final_model = multi_rfc_cv#OneVsRestClassifier(RandomForestClassifier(**rfc_best_params_ok))\n",
    "#rfc_final_model.fit(X_train, y_train)\n",
    "\n",
    "# Predict\n",
    "y_test_predicted_labels_tfidf_rfc = rfc_final_model.predict(X_test)\n",
    "\n",
    "# Inverse transform\n",
    "y_test_pred_inversed_rfc = multilabel_binarizer.inverse_transform(y_test_predicted_labels_tfidf_rfc)\n",
    "y_test_inversed = multilabel_binarizer.inverse_transform(y_test)\n",
    "print(\"Predicted:\", y_test_pred_inversed_rfc[0:5])\n",
    "print(\"True:\", y_test_inversed[0:5])"
   ]
  },
  {
   "cell_type": "code",
   "execution_count": null,
   "metadata": {},
   "outputs": [
    {
     "data": {
      "text/html": [
       "<div>\n",
       "<style scoped>\n",
       "    .dataframe tbody tr th:only-of-type {\n",
       "        vertical-align: middle;\n",
       "    }\n",
       "\n",
       "    .dataframe tbody tr th {\n",
       "        vertical-align: top;\n",
       "    }\n",
       "\n",
       "    .dataframe thead th {\n",
       "        text-align: right;\n",
       "    }\n",
       "</style>\n",
       "<table border=\"1\" class=\"dataframe\">\n",
       "  <thead>\n",
       "    <tr style=\"text-align: right;\">\n",
       "      <th></th>\n",
       "      <th>RandomForest</th>\n",
       "    </tr>\n",
       "  </thead>\n",
       "  <tbody>\n",
       "    <tr>\n",
       "      <th>Accuracy</th>\n",
       "      <td>0.166482</td>\n",
       "    </tr>\n",
       "    <tr>\n",
       "      <th>F1</th>\n",
       "      <td>0.529583</td>\n",
       "    </tr>\n",
       "    <tr>\n",
       "      <th>Jaccard</th>\n",
       "      <td>0.390206</td>\n",
       "    </tr>\n",
       "    <tr>\n",
       "      <th>Recall</th>\n",
       "      <td>0.626744</td>\n",
       "    </tr>\n",
       "    <tr>\n",
       "      <th>Precision</th>\n",
       "      <td>0.501085</td>\n",
       "    </tr>\n",
       "  </tbody>\n",
       "</table>\n",
       "</div>"
      ],
      "text/plain": [
       "           RandomForest\n",
       "Accuracy       0.166482\n",
       "F1             0.529583\n",
       "Jaccard        0.390206\n",
       "Recall         0.626744\n",
       "Precision      0.501085"
      ]
     },
     "execution_count": 14,
     "metadata": {},
     "output_type": "execute_result"
    }
   ],
   "source": [
    "def metrics_score(model, df, y_true, y_pred):\n",
    " \n",
    "    if(df is not None):\n",
    "        temp_df = df\n",
    "    else:\n",
    "        temp_df = pd.DataFrame(index=[\"Accuracy\", \"F1\",\n",
    "                                      \"Jaccard\", \"Recall\",\n",
    "                                      \"Precision\"],\n",
    "                               columns=[model])\n",
    "        \n",
    "    scores = []\n",
    "    scores.append(metrics.accuracy_score(y_true, \n",
    "                                         y_pred))\n",
    "    scores.append(metrics.f1_score(y_pred, \n",
    "                                   y_true, \n",
    "                                   average='weighted'))\n",
    "    scores.append(metrics.jaccard_score(y_true, \n",
    "                                        y_pred, \n",
    "                                        average='weighted'))\n",
    "    scores.append(metrics.recall_score(y_true, \n",
    "                                       y_pred, \n",
    "                                       average='weighted'))\n",
    "    scores.append(metrics.precision_score(y_true, \n",
    "                                          y_pred, \n",
    "                                          average='weighted'))\n",
    "    temp_df[model] = scores\n",
    "    \n",
    "    return temp_df\n",
    "    \n",
    "df_metrics_compare = metrics_score(\"RandomForest\", \n",
    "                                   df=None,\n",
    "                                   y_true = y_test,\n",
    "                                   y_pred = y_test_predicted_labels_tfidf_rfc)\n",
    "df_metrics_compare\n"
   ]
  }
 ],
 "metadata": {
  "interpreter": {
   "hash": "7f7e7a8048ab9569ccd7edaade9a9d1227dad3950a1e5a7122e71aad3389e168"
  },
  "kernelspec": {
   "display_name": "Python 3.9.7 ('base')",
   "language": "python",
   "name": "python3"
  },
  "language_info": {
   "codemirror_mode": {
    "name": "ipython",
    "version": 3
   },
   "file_extension": ".py",
   "mimetype": "text/x-python",
   "name": "python",
   "nbconvert_exporter": "python",
   "pygments_lexer": "ipython3",
   "version": "3.9.7"
  },
  "orig_nbformat": 4
 },
 "nbformat": 4,
 "nbformat_minor": 2
}
